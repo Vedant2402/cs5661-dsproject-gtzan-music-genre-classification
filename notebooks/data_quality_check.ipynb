{
 "cells": [
  {
   "cell_type": "markdown",
   "id": "24107e8d",
   "metadata": {},
   "source": [
    "# PreML checklist notebook\n"
   ]
  },
  {
   "cell_type": "markdown",
   "id": "eda0e502",
   "metadata": {},
   "source": []
  }
 ],
 "metadata": {
  "language_info": {
   "name": "python"
  }
 },
 "nbformat": 4,
 "nbformat_minor": 5
}
